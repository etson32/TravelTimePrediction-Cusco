{
 "cells": [
  {
   "cell_type": "code",
   "execution_count": 29,
   "metadata": {},
   "outputs": [],
   "source": [
    "#!pip install matplotlib"
   ]
  },
  {
   "cell_type": "code",
   "execution_count": 8,
   "metadata": {},
   "outputs": [],
   "source": [
    "import pandas as pd"
   ]
  },
  {
   "cell_type": "code",
   "execution_count": 14,
   "metadata": {},
   "outputs": [],
   "source": [
    "samples_df = pd.read_csv('./../../data/samples.csv')# damos el formato correcto al campo datetime\n",
    "samples_df['datetime'] = pd.to_datetime(samples_df['datetime'])"
   ]
  },
  {
   "cell_type": "code",
   "execution_count": 16,
   "metadata": {},
   "outputs": [
    {
     "name": "stdout",
     "output_type": "stream",
     "text": [
      "<class 'pandas.core.frame.DataFrame'>\n",
      "RangeIndex: 1685070 entries, 0 to 1685069\n",
      "Data columns (total 9 columns):\n",
      " #   Column      Non-Null Count    Dtype         \n",
      "---  ------      --------------    -----         \n",
      " 0   sample_id   1685070 non-null  int64         \n",
      " 1   sample_tag  1685070 non-null  object        \n",
      " 2   datetime    1685070 non-null  datetime64[ns]\n",
      " 3   vehicle_id  1685070 non-null  object        \n",
      " 4   lap         1685070 non-null  int64         \n",
      " 5   latitude    1685070 non-null  float64       \n",
      " 6   longitude   1685070 non-null  float64       \n",
      " 7   navigation  1685070 non-null  int64         \n",
      " 8   id_point    1685070 non-null  int64         \n",
      "dtypes: datetime64[ns](1), float64(2), int64(4), object(2)\n",
      "memory usage: 115.7+ MB\n"
     ]
    }
   ],
   "source": [
    "samples_df.info()"
   ]
  },
  {
   "cell_type": "markdown",
   "metadata": {},
   "source": [
    "### Extraer Sample para My Maps"
   ]
  },
  {
   "cell_type": "code",
   "execution_count": 17,
   "metadata": {},
   "outputs": [
    {
     "data": {
      "text/html": [
       "<div>\n",
       "<style scoped>\n",
       "    .dataframe tbody tr th:only-of-type {\n",
       "        vertical-align: middle;\n",
       "    }\n",
       "\n",
       "    .dataframe tbody tr th {\n",
       "        vertical-align: top;\n",
       "    }\n",
       "\n",
       "    .dataframe thead th {\n",
       "        text-align: right;\n",
       "    }\n",
       "</style>\n",
       "<table border=\"1\" class=\"dataframe\">\n",
       "  <thead>\n",
       "    <tr style=\"text-align: right;\">\n",
       "      <th></th>\n",
       "      <th>sample_id</th>\n",
       "      <th>sample_tag</th>\n",
       "      <th>datetime</th>\n",
       "      <th>vehicle_id</th>\n",
       "      <th>lap</th>\n",
       "      <th>latitude</th>\n",
       "      <th>longitude</th>\n",
       "      <th>navigation</th>\n",
       "      <th>id_point</th>\n",
       "    </tr>\n",
       "  </thead>\n",
       "  <tbody>\n",
       "    <tr>\n",
       "      <th>366</th>\n",
       "      <td>0</td>\n",
       "      <td>2023-03-01 SJ39 1</td>\n",
       "      <td>2023-03-01 05:05:12</td>\n",
       "      <td>SJ39</td>\n",
       "      <td>1</td>\n",
       "      <td>-13.555726</td>\n",
       "      <td>-71.856056</td>\n",
       "      <td>303</td>\n",
       "      <td>13173244</td>\n",
       "    </tr>\n",
       "    <tr>\n",
       "      <th>377</th>\n",
       "      <td>0</td>\n",
       "      <td>2023-03-01 SJ39 1</td>\n",
       "      <td>2023-03-01 05:05:24</td>\n",
       "      <td>SJ39</td>\n",
       "      <td>1</td>\n",
       "      <td>-13.555219</td>\n",
       "      <td>-71.856794</td>\n",
       "      <td>305</td>\n",
       "      <td>13173248</td>\n",
       "    </tr>\n",
       "    <tr>\n",
       "      <th>388</th>\n",
       "      <td>0</td>\n",
       "      <td>2023-03-01 SJ39 1</td>\n",
       "      <td>2023-03-01 05:05:44</td>\n",
       "      <td>SJ39</td>\n",
       "      <td>1</td>\n",
       "      <td>-13.554692</td>\n",
       "      <td>-71.857518</td>\n",
       "      <td>303</td>\n",
       "      <td>13173255</td>\n",
       "    </tr>\n",
       "    <tr>\n",
       "      <th>417</th>\n",
       "      <td>0</td>\n",
       "      <td>2023-03-01 SJ39 1</td>\n",
       "      <td>2023-03-01 05:05:56</td>\n",
       "      <td>SJ39</td>\n",
       "      <td>1</td>\n",
       "      <td>-13.554171</td>\n",
       "      <td>-71.858327</td>\n",
       "      <td>302</td>\n",
       "      <td>13173261</td>\n",
       "    </tr>\n",
       "    <tr>\n",
       "      <th>363</th>\n",
       "      <td>0</td>\n",
       "      <td>2023-03-01 SJ39 1</td>\n",
       "      <td>2023-03-01 05:06:08</td>\n",
       "      <td>SJ39</td>\n",
       "      <td>1</td>\n",
       "      <td>-13.553682</td>\n",
       "      <td>-71.859570</td>\n",
       "      <td>284</td>\n",
       "      <td>13173266</td>\n",
       "    </tr>\n",
       "    <tr>\n",
       "      <th>...</th>\n",
       "      <td>...</td>\n",
       "      <td>...</td>\n",
       "      <td>...</td>\n",
       "      <td>...</td>\n",
       "      <td>...</td>\n",
       "      <td>...</td>\n",
       "      <td>...</td>\n",
       "      <td>...</td>\n",
       "      <td>...</td>\n",
       "    </tr>\n",
       "    <tr>\n",
       "      <th>301</th>\n",
       "      <td>0</td>\n",
       "      <td>2023-03-01 SJ39 1</td>\n",
       "      <td>2023-03-01 07:12:25</td>\n",
       "      <td>SJ39</td>\n",
       "      <td>1</td>\n",
       "      <td>-13.553942</td>\n",
       "      <td>-71.858960</td>\n",
       "      <td>109</td>\n",
       "      <td>13187884</td>\n",
       "    </tr>\n",
       "    <tr>\n",
       "      <th>124</th>\n",
       "      <td>0</td>\n",
       "      <td>2023-03-01 SJ39 1</td>\n",
       "      <td>2023-03-01 07:12:37</td>\n",
       "      <td>SJ39</td>\n",
       "      <td>1</td>\n",
       "      <td>-13.554810</td>\n",
       "      <td>-71.857447</td>\n",
       "      <td>124</td>\n",
       "      <td>13187918</td>\n",
       "    </tr>\n",
       "    <tr>\n",
       "      <th>396</th>\n",
       "      <td>0</td>\n",
       "      <td>2023-03-01 SJ39 1</td>\n",
       "      <td>2023-03-01 07:12:49</td>\n",
       "      <td>SJ39</td>\n",
       "      <td>1</td>\n",
       "      <td>-13.555622</td>\n",
       "      <td>-71.856283</td>\n",
       "      <td>123</td>\n",
       "      <td>13187969</td>\n",
       "    </tr>\n",
       "    <tr>\n",
       "      <th>252</th>\n",
       "      <td>0</td>\n",
       "      <td>2023-03-01 SJ39 1</td>\n",
       "      <td>2023-03-01 07:14:38</td>\n",
       "      <td>SJ39</td>\n",
       "      <td>1</td>\n",
       "      <td>-13.555519</td>\n",
       "      <td>-71.855775</td>\n",
       "      <td>339</td>\n",
       "      <td>13188295</td>\n",
       "    </tr>\n",
       "    <tr>\n",
       "      <th>12</th>\n",
       "      <td>0</td>\n",
       "      <td>2023-03-01 SJ39 1</td>\n",
       "      <td>2023-03-01 07:15:02</td>\n",
       "      <td>SJ39</td>\n",
       "      <td>1</td>\n",
       "      <td>-13.554922</td>\n",
       "      <td>-71.856023</td>\n",
       "      <td>339</td>\n",
       "      <td>13188352</td>\n",
       "    </tr>\n",
       "  </tbody>\n",
       "</table>\n",
       "<p>427 rows × 9 columns</p>\n",
       "</div>"
      ],
      "text/plain": [
       "     sample_id         sample_tag            datetime vehicle_id  lap  \\\n",
       "366          0  2023-03-01 SJ39 1 2023-03-01 05:05:12       SJ39    1   \n",
       "377          0  2023-03-01 SJ39 1 2023-03-01 05:05:24       SJ39    1   \n",
       "388          0  2023-03-01 SJ39 1 2023-03-01 05:05:44       SJ39    1   \n",
       "417          0  2023-03-01 SJ39 1 2023-03-01 05:05:56       SJ39    1   \n",
       "363          0  2023-03-01 SJ39 1 2023-03-01 05:06:08       SJ39    1   \n",
       "..         ...                ...                 ...        ...  ...   \n",
       "301          0  2023-03-01 SJ39 1 2023-03-01 07:12:25       SJ39    1   \n",
       "124          0  2023-03-01 SJ39 1 2023-03-01 07:12:37       SJ39    1   \n",
       "396          0  2023-03-01 SJ39 1 2023-03-01 07:12:49       SJ39    1   \n",
       "252          0  2023-03-01 SJ39 1 2023-03-01 07:14:38       SJ39    1   \n",
       "12           0  2023-03-01 SJ39 1 2023-03-01 07:15:02       SJ39    1   \n",
       "\n",
       "      latitude  longitude  navigation  id_point  \n",
       "366 -13.555726 -71.856056         303  13173244  \n",
       "377 -13.555219 -71.856794         305  13173248  \n",
       "388 -13.554692 -71.857518         303  13173255  \n",
       "417 -13.554171 -71.858327         302  13173261  \n",
       "363 -13.553682 -71.859570         284  13173266  \n",
       "..         ...        ...         ...       ...  \n",
       "301 -13.553942 -71.858960         109  13187884  \n",
       "124 -13.554810 -71.857447         124  13187918  \n",
       "396 -13.555622 -71.856283         123  13187969  \n",
       "252 -13.555519 -71.855775         339  13188295  \n",
       "12  -13.554922 -71.856023         339  13188352  \n",
       "\n",
       "[427 rows x 9 columns]"
      ]
     },
     "execution_count": 17,
     "metadata": {},
     "output_type": "execute_result"
    }
   ],
   "source": [
    "one_sample = samples_df[samples_df['sample_id'] == 0]\n",
    "one_sample = one_sample.sort_values(by='datetime')\n",
    "one_sample"
   ]
  },
  {
   "cell_type": "code",
   "execution_count": null,
   "metadata": {},
   "outputs": [],
   "source": [
    "# one_sample.to_csv(f'./../../data/samples/{one_sample.loc[0, 'sample_tag']}.csv', index=False)"
   ]
  },
  {
   "cell_type": "markdown",
   "metadata": {},
   "source": [
    "### Analisis de cantidad de puntos por SAMPLE"
   ]
  },
  {
   "cell_type": "code",
   "execution_count": 19,
   "metadata": {},
   "outputs": [],
   "source": [
    "cantidad_puntos = []\n",
    "for n, points_df in samples_df.groupby(by='sample_id'):\n",
    "    cantidad_puntos.append(points_df.shape[0])"
   ]
  },
  {
   "cell_type": "code",
   "execution_count": 21,
   "metadata": {},
   "outputs": [
    {
     "name": "stdout",
     "output_type": "stream",
     "text": [
      "Q1: 175.0, Q2: 421.0, Q3: 455.0\n",
      "Rango 1 (<= Q1): 1256 valores\n",
      "Rango 2 (Q1 < x <= Q2): 1275 valores\n",
      "Rango 3 (Q2 < x <= Q3): 1278 valores\n",
      "Rango 4 (> Q3): 1206 valores\n"
     ]
    }
   ],
   "source": [
    "import numpy as np\n",
    "\n",
    "# Calcular los cuartiles\n",
    "q1, q2, q3 = np.percentile(cantidad_puntos, [25, 50, 75])\n",
    "\n",
    "# Contar los valores en cada rango\n",
    "rango1 = sum(1 for x in cantidad_puntos if x <= q1)\n",
    "rango2 = sum(1 for x in cantidad_puntos if q1 < x <= q2)\n",
    "rango3 = sum(1 for x in cantidad_puntos if q2 < x <= q3)\n",
    "rango4 = sum(1 for x in cantidad_puntos if x > q3)\n",
    "\n",
    "# Mostrar los resultados\n",
    "print(f\"Q1: {q1}, Q2: {q2}, Q3: {q3}\")\n",
    "print(f\"Rango 1 (<= Q1): {rango1} valores\")\n",
    "print(f\"Rango 2 (Q1 < x <= Q2): {rango2} valores\")\n",
    "print(f\"Rango 3 (Q2 < x <= Q3): {rango3} valores\")\n",
    "print(f\"Rango 4 (> Q3): {rango4} valores\")"
   ]
  },
  {
   "cell_type": "code",
   "execution_count": 26,
   "metadata": {},
   "outputs": [
    {
     "data": {
      "image/png": "[encoded data removed]",
      "text/plain": [
       "<Figure size 1000x600 with 1 Axes>"
      ]
     },
     "metadata": {},
     "output_type": "display_data"
    }
   ],
   "source": [
    "import matplotlib.pyplot as plt\n",
    "\n",
    "# Crear la gráfica continua\n",
    "plt.figure(figsize=(10, 6))\n",
    "plt.plot(cantidad_puntos, label='Cantidad de puntos', color='blue')\n",
    "plt.title('Gráfica continua de cantidad_puntos')\n",
    "plt.xlabel('Índice')\n",
    "plt.ylabel('Cantidad de puntos')\n",
    "plt.legend()\n",
    "plt.grid()\n",
    "plt.show()"
   ]
  },
  {
   "cell_type": "code",
   "execution_count": 31,
   "metadata": {},
   "outputs": [
    {
     "name": "stdout",
     "output_type": "stream",
     "text": [
      "valores menores a 156: 3802\n",
      "valores mayores a 500: 4640\n"
     ]
    }
   ],
   "source": [
    "print(f'valores menores a 156: {sum(1 for x in cantidad_puntos if x > 156)}') \n",
    "print(f'valores mayores a 500: {sum(1 for x in cantidad_puntos if x < 500)}') "
   ]
  }
 ],
 "metadata": {
  "kernelspec": {
   "display_name": ".venv",
   "language": "python",
   "name": "python3"
  },
  "language_info": {
   "codemirror_mode": {
    "name": "ipython",
    "version": 3
   },
   "file_extension": ".py",
   "mimetype": "text/x-python",
   "name": "python",
   "nbconvert_exporter": "python",
   "pygments_lexer": "ipython3",
   "version": "3.12.3"
  }
 },
 "nbformat": 4,
 "nbformat_minor": 2
}
